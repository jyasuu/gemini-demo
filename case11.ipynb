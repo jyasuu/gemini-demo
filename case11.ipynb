{
 "cells": [
  {
   "cell_type": "code",
   "execution_count": null,
   "id": "493e0218",
   "metadata": {},
   "outputs": [],
   "source": [
    "%set_env OPENROUTER_BASE_URL=https://gateway.ai.cloudflare.com/v1/0177dfd3fc04f0bb51d422b49f2dad20/jyasu-demo/openrouter\n",
    "%set_env OPENROUTER_API_KEY=\n",
    "%set_env OPENAIROUTER_MODEL=deepseek/deepseek-chat-v3-0324:free \n",
    "%set_env TAVILY_API_KEY=\n",
    "%set_env GOOGLE_API_KEY="
   ]
  },
  {
   "cell_type": "code",
   "execution_count": 17,
   "id": "ebb63489",
   "metadata": {},
   "outputs": [],
   "source": [
    "%%capture --no-stderr\n",
    "%pip install -U langchain_community langchain_anthropic \"langchain[google-genai]\" langchain-openai \"langchain[openai]\" langchain-tavily langchain_experimental matplotlib langgraph"
   ]
  },
  {
   "cell_type": "code",
   "execution_count": null,
   "id": "008919a7",
   "metadata": {},
   "outputs": [],
   "source": [
    "from typing import Annotated\n",
    "\n",
    "from langchain_tavily import TavilySearch\n",
    "from langchain_core.tools import tool\n",
    "from langchain_experimental.utilities import PythonREPL\n",
    "\n",
    "tavily_tool = TavilySearch(max_results=5)\n",
    "\n",
    "# Warning: This executes code locally, which can be unsafe when not sandboxed\n",
    "\n",
    "repl = PythonREPL()\n",
    "\n",
    "\n",
    "@tool\n",
    "def python_repl_tool(\n",
    "    code: Annotated[str, \"The python code to execute to generate your chart.\"],\n",
    "):\n",
    "    \"\"\"Use this to execute python code. If you want to see the output of a value,\n",
    "    you should print it out with `print(...)`. This is visible to the user.\"\"\"\n",
    "    try:\n",
    "        result = repl.run(code)\n",
    "    except BaseException as e:\n",
    "        return f\"Failed to execute. Error: {repr(e)}\"\n",
    "    result_str = f\"Successfully executed:\\n```python\\n{code}\\n```\\nStdout: {result}\"\n",
    "    return (\n",
    "        result_str + \"\\n\\nIf you have completed all tasks, respond with FINAL ANSWER.\"\n",
    "    )"
   ]
  },
  {
   "cell_type": "code",
   "execution_count": 4,
   "id": "66b7db85",
   "metadata": {},
   "outputs": [],
   "source": [
    "def make_system_prompt(suffix: str) -> str:\n",
    "    return (\n",
    "        \"You are a helpful AI assistant, collaborating with other assistants.\"\n",
    "        \" Use the provided tools to progress towards answering the question.\"\n",
    "        \" If you are unable to fully answer, that's OK, another assistant with different tools \"\n",
    "        \" will help where you left off. Execute what you can to make progress.\"\n",
    "        \" If you or any of the other assistants have the final answer or deliverable,\"\n",
    "        \" prefix your response with FINAL ANSWER so the team knows to stop.\"\n",
    "        f\"\\n{suffix}\"\n",
    "    )"
   ]
  },
  {
   "cell_type": "code",
   "execution_count": 24,
   "id": "ef43ef44",
   "metadata": {},
   "outputs": [],
   "source": [
    "from typing import Literal\n",
    "\n",
    "from langchain_core.messages import BaseMessage, HumanMessage\n",
    "from langchain_openai import ChatOpenAI\n",
    "from langgraph.prebuilt import create_react_agent\n",
    "from langgraph.graph import MessagesState, END\n",
    "from langgraph.types import Command\n",
    "from langchain.chat_models import init_chat_model\n",
    "\n",
    "\n",
    "\n",
    "llm = init_chat_model(\"gemini-2.5-flash\", model_provider=\"google_genai\")\n",
    "\n",
    "def get_next_node(last_message: BaseMessage, goto: str):\n",
    "    if \"FINAL ANSWER\" in last_message.content:\n",
    "        # Any agent decided the work is done\n",
    "        return END\n",
    "    return goto\n",
    "\n",
    "\n",
    "# Research agent and node\n",
    "research_agent = create_react_agent(\n",
    "    llm,\n",
    "    tools=[tavily_tool],\n",
    "    prompt=make_system_prompt(\n",
    "        \"You can only do research. You are working with a chart generator colleague.\"\n",
    "    ),\n",
    ")\n",
    "\n",
    "\n",
    "def research_node(\n",
    "    state: MessagesState,\n",
    ") -> Command[Literal[\"chart_generator\", END]]:\n",
    "    result = research_agent.invoke(state)\n",
    "    goto = get_next_node(result[\"messages\"][-1], \"chart_generator\")\n",
    "    # wrap in a human message, as not all providers allow\n",
    "    # AI message at the last position of the input messages list\n",
    "    result[\"messages\"][-1] = HumanMessage(\n",
    "        content=result[\"messages\"][-1].content, name=\"researcher\"\n",
    "    )\n",
    "    return Command(\n",
    "        update={\n",
    "            # share internal message history of research agent with other agents\n",
    "            \"messages\": result[\"messages\"],\n",
    "        },\n",
    "        goto=goto,\n",
    "    )\n",
    "\n",
    "\n",
    "# Chart generator agent and node\n",
    "# NOTE: THIS PERFORMS ARBITRARY CODE EXECUTION, WHICH CAN BE UNSAFE WHEN NOT SANDBOXED\n",
    "chart_agent = create_react_agent(\n",
    "    llm,\n",
    "    [python_repl_tool],\n",
    "    prompt=make_system_prompt(\n",
    "        \"You can only generate charts. You are working with a researcher colleague.\"\n",
    "    ),\n",
    ")\n",
    "\n",
    "\n",
    "def chart_node(state: MessagesState) -> Command[Literal[\"researcher\", END]]:\n",
    "    result = chart_agent.invoke(state)\n",
    "    goto = get_next_node(result[\"messages\"][-1], \"researcher\")\n",
    "    # wrap in a human message, as not all providers allow\n",
    "    # AI message at the last position of the input messages list\n",
    "    result[\"messages\"][-1] = HumanMessage(\n",
    "        content=result[\"messages\"][-1].content, name=\"chart_generator\"\n",
    "    )\n",
    "    return Command(\n",
    "        update={\n",
    "            # share internal message history of chart agent with other agents\n",
    "            \"messages\": result[\"messages\"],\n",
    "        },\n",
    "        goto=goto,\n",
    "    )"
   ]
  },
  {
   "cell_type": "code",
   "execution_count": 25,
   "id": "c931b163",
   "metadata": {},
   "outputs": [],
   "source": [
    "from langgraph.graph import StateGraph, START\n",
    "\n",
    "workflow = StateGraph(MessagesState)\n",
    "workflow.add_node(\"researcher\", research_node)\n",
    "workflow.add_node(\"chart_generator\", chart_node)\n",
    "\n",
    "workflow.add_edge(START, \"researcher\")\n",
    "graph = workflow.compile()"
   ]
  },
  {
   "cell_type": "code",
   "execution_count": 26,
   "id": "b02a770b",
   "metadata": {},
   "outputs": [
    {
     "data": {
      "image/png": "[encoded data removed]",
      "text/plain": [
       "<IPython.core.display.Image object>"
      ]
     },
     "metadata": {},
     "output_type": "display_data"
    }
   ],
   "source": [
    "from IPython.display import Image, display\n",
    "\n",
    "try:\n",
    "    display(Image(graph.get_graph().draw_mermaid_png()))\n",
    "except Exception:\n",
    "    # This requires some extra dependencies and is optional\n",
    "    pass"
   ]
  },
  {
   "cell_type": "code",
   "execution_count": 30,
   "id": "11ab29b7",
   "metadata": {},
   "outputs": [
    {
     "name": "stdout",
     "output_type": "stream",
     "text": [
      "{'researcher': {'messages': [HumanMessage(content=\"First, get the UK's GDP over the past 5 years, then generate a line chart of it. Once you generate the chart, finish.\", additional_kwargs={}, response_metadata={}, id='167e285f-76ad-4a0c-b155-fc01420e3111'), AIMessage(content='', additional_kwargs={'function_call': {'name': 'tavily_search', 'arguments': '{\"query\": \"UK GDP over the past 5 years\"}'}}, response_metadata={'prompt_feedback': {'block_reason': 0, 'safety_ratings': []}, 'finish_reason': 'STOP', 'model_name': 'gemini-2.5-flash', 'safety_ratings': []}, id='run--ef2f5d7c-297c-40f3-b795-e7bdca8ce886-0', tool_calls=[{'name': 'tavily_search', 'args': {'query': 'UK GDP over the past 5 years'}, 'id': 'df3b62fb-2024-4ff6-9595-743c2ac3f209', 'type': 'tool_call'}], usage_metadata={'input_tokens': 1373, 'output_tokens': 180, 'total_tokens': 1553, 'input_token_details': {'cache_read': 0}, 'output_token_details': {'reasoning': 156}}), ToolMessage(content='{\"query\": \"UK GDP over the past 5 years\", \"follow_up_questions\": null, \"answer\": null, \"images\": [], \"results\": [{\"url\": \"https://www.macrotrends.net/global-metrics/countries/gbr/united-kingdom/gdp-growth-rate\", \"title\": \"U.K. GDP Growth Rate | Historical Chart & Data\", \"content\": \"## U.K. GDP Growth Rate GDP GDP Growth Rate ##### U.K. gdp growth rate for 2023 was **0.34%**, a **4.5% decline** from 2022. * U.K. gdp growth rate for 2022 was **4.84%**, a **3.74% decline** from 2021. * U.K. gdp growth rate for 2021 was **8.58%**, a **18.87% increase** from 2020. * U.K. gdp growth rate for 2020 was **-10.30%**, a **11.92% decline** from 2019. Annual percentage growth rate of GDP at market prices based on constant local currency. ## GDP Growth Rate | Name | GDP Growth Rate | | South Asia | 6.779% | | North America | 2.762% | | Name | GDP Growth Rate | | Guinea | 6.745% | | South Africa | 0.698% |\", \"score\": 0.7570233, \"raw_content\": null}, {\"url\": \"https://en.wikipedia.org/wiki/Economy_of_the_United_Kingdom\", \"title\": \"Economy of the United Kingdom\", \"content\": \"In the first half of 2020, GDP shrank by 22.6%, the deepest recession in UK history and worse than any other G7 or European country. During 2020 the BoE\", \"score\": 0.57035583, \"raw_content\": null}, {\"url\": \"https://tradingeconomics.com/united-kingdom/gdp-growth\", \"title\": \"United Kingdom GDP Growth Rate\", \"content\": \"This page provides the latest reported value for - United Kingdom GDP Growth Rate - plus previous releases, historical high and low, short-term forecast and long-term prediction, economic calendar, survey consensus and news. United Kingdom GDP Growth Rate - data, historical chart, forecasts and calendar of releases - was last updated on August of 2025. GDP Growth Rate in the United Kingdom is expected to be 0.20 percent by the end of this quarter, according to Trading Economics global macro models and analysts expectations. | GDP Growth Rate YoY | 1.20 | 1.30 | percent | Jun 2025 | GDP Growth Rate GDP Growth Rate YoY Economic Calendar Historical Data News Stream Earnings Releases Credit Ratings Forecasts Markets Currencies Stocks Commodities Bonds Crypto Get Started\", \"score\": 0.56690645, \"raw_content\": null}, {\"url\": \"https://tradingeconomics.com/united-kingdom/gdp-growth-annual\", \"title\": \"United Kingdom GDP Annual Growth Rate\", \"content\": \"This page provides the latest reported value for - United Kingdom GDP Annual Growth Rate - plus previous releases, historical high and low, short-term forecast and long-term prediction, economic calendar, survey consensus and news. GDP Annual Growth Rate in the United Kingdom is expected to be 1.00 percent by the end of this quarter, according to Trading Economics global macro models and analysts expectations. | GDP Growth Rate YoY | 1.20 | 1.30 | percent | Jun 2025 | **UK GDP Annual Growth Rate at 1.2% in Q2** UK GDP Annual Growth Rate at 1.2% in Q2 GDP Growth Rate GDP Growth Rate YoY Economic Calendar Historical Data News Stream Earnings Releases Credit Ratings Forecasts Markets Currencies Stocks Commodities Bonds Crypto Get Started\", \"score\": 0.5414337, \"raw_content\": null}, {\"url\": \"https://www.macrotrends.net/global-metrics/countries/gbr/united-kingdom/gdp-gross-domestic-product\", \"title\": \"U.K. GDP | Historical Chart & Data\", \"content\": \"| 1989 | $926.88B | | 1988 | $910.12B | | 1987 | $745.16B | | 1986 | $601.45B | | 1985 | $489.29B | | 1984 | $461.49B | | 1983 | $489.62B | | 1982 | $515.05B | | 1981 | $540.77B | | 1980 | $564.95B | | 1979 | $438.99B | | 1978 | $335.88B | | 1977 | $263.07B | | 1976 | $232.61B | | 1975 | $241.76B | | 1974 | $206.13B | | 1973 | $192.54B | | 1972 | $169.97B | | 1971 | $148.11B | | 1970 | $130.67B | | 1969 | $116.46B | | 1968 | $107.76B | | 1967 | $113.12B | | 1966 | $108.57B |\", \"score\": 0.5057865, \"raw_content\": null}], \"response_time\": 1.7, \"request_id\": \"fa642985-0b18-4498-bf3c-06b74b0436b4\"}', name='tavily_search', id='faf2ac47-100b-445f-bdd4-cd5c36a69825', tool_call_id='df3b62fb-2024-4ff6-9595-743c2ac3f209'), HumanMessage(content=\"Here is the UK's GDP growth rate over the past 5 years:\\n\\n*   **2023:** 0.34%\\n*   **2022:** 4.84%\\n*   **2021:** 8.58%\\n*   **2020:** -10.30%\\n*   **2019:** 1.62%\\n\\nPlease generate a line chart using this data.\", additional_kwargs={}, response_metadata={}, name='researcher', id='b3a25a62-83c5-44f5-936a-339a61e9ac3f')]}}\n",
      "----\n",
      "{'chart_generator': {'messages': [HumanMessage(content=\"First, get the UK's GDP over the past 5 years, then generate a line chart of it. Once you generate the chart, finish.\", additional_kwargs={}, response_metadata={}, id='167e285f-76ad-4a0c-b155-fc01420e3111'), AIMessage(content='', additional_kwargs={'function_call': {'name': 'tavily_search', 'arguments': '{\"query\": \"UK GDP over the past 5 years\"}'}}, response_metadata={'prompt_feedback': {'block_reason': 0, 'safety_ratings': []}, 'finish_reason': 'STOP', 'model_name': 'gemini-2.5-flash', 'safety_ratings': []}, id='run--ef2f5d7c-297c-40f3-b795-e7bdca8ce886-0', tool_calls=[{'name': 'tavily_search', 'args': {'query': 'UK GDP over the past 5 years'}, 'id': 'df3b62fb-2024-4ff6-9595-743c2ac3f209', 'type': 'tool_call'}], usage_metadata={'input_tokens': 1373, 'output_tokens': 180, 'total_tokens': 1553, 'input_token_details': {'cache_read': 0}, 'output_token_details': {'reasoning': 156}}), ToolMessage(content='{\"query\": \"UK GDP over the past 5 years\", \"follow_up_questions\": null, \"answer\": null, \"images\": [], \"results\": [{\"url\": \"https://www.macrotrends.net/global-metrics/countries/gbr/united-kingdom/gdp-growth-rate\", \"title\": \"U.K. GDP Growth Rate | Historical Chart & Data\", \"content\": \"## U.K. GDP Growth Rate GDP GDP Growth Rate ##### U.K. gdp growth rate for 2023 was **0.34%**, a **4.5% decline** from 2022. * U.K. gdp growth rate for 2022 was **4.84%**, a **3.74% decline** from 2021. * U.K. gdp growth rate for 2021 was **8.58%**, a **18.87% increase** from 2020. * U.K. gdp growth rate for 2020 was **-10.30%**, a **11.92% decline** from 2019. Annual percentage growth rate of GDP at market prices based on constant local currency. ## GDP Growth Rate | Name | GDP Growth Rate | | South Asia | 6.779% | | North America | 2.762% | | Name | GDP Growth Rate | | Guinea | 6.745% | | South Africa | 0.698% |\", \"score\": 0.7570233, \"raw_content\": null}, {\"url\": \"https://en.wikipedia.org/wiki/Economy_of_the_United_Kingdom\", \"title\": \"Economy of the United Kingdom\", \"content\": \"In the first half of 2020, GDP shrank by 22.6%, the deepest recession in UK history and worse than any other G7 or European country. During 2020 the BoE\", \"score\": 0.57035583, \"raw_content\": null}, {\"url\": \"https://tradingeconomics.com/united-kingdom/gdp-growth\", \"title\": \"United Kingdom GDP Growth Rate\", \"content\": \"This page provides the latest reported value for - United Kingdom GDP Growth Rate - plus previous releases, historical high and low, short-term forecast and long-term prediction, economic calendar, survey consensus and news. United Kingdom GDP Growth Rate - data, historical chart, forecasts and calendar of releases - was last updated on August of 2025. GDP Growth Rate in the United Kingdom is expected to be 0.20 percent by the end of this quarter, according to Trading Economics global macro models and analysts expectations. | GDP Growth Rate YoY | 1.20 | 1.30 | percent | Jun 2025 | GDP Growth Rate GDP Growth Rate YoY Economic Calendar Historical Data News Stream Earnings Releases Credit Ratings Forecasts Markets Currencies Stocks Commodities Bonds Crypto Get Started\", \"score\": 0.56690645, \"raw_content\": null}, {\"url\": \"https://tradingeconomics.com/united-kingdom/gdp-growth-annual\", \"title\": \"United Kingdom GDP Annual Growth Rate\", \"content\": \"This page provides the latest reported value for - United Kingdom GDP Annual Growth Rate - plus previous releases, historical high and low, short-term forecast and long-term prediction, economic calendar, survey consensus and news. GDP Annual Growth Rate in the United Kingdom is expected to be 1.00 percent by the end of this quarter, according to Trading Economics global macro models and analysts expectations. | GDP Growth Rate YoY | 1.20 | 1.30 | percent | Jun 2025 | **UK GDP Annual Growth Rate at 1.2% in Q2** UK GDP Annual Growth Rate at 1.2% in Q2 GDP Growth Rate GDP Growth Rate YoY Economic Calendar Historical Data News Stream Earnings Releases Credit Ratings Forecasts Markets Currencies Stocks Commodities Bonds Crypto Get Started\", \"score\": 0.5414337, \"raw_content\": null}, {\"url\": \"https://www.macrotrends.net/global-metrics/countries/gbr/united-kingdom/gdp-gross-domestic-product\", \"title\": \"U.K. GDP | Historical Chart & Data\", \"content\": \"| 1989 | $926.88B | | 1988 | $910.12B | | 1987 | $745.16B | | 1986 | $601.45B | | 1985 | $489.29B | | 1984 | $461.49B | | 1983 | $489.62B | | 1982 | $515.05B | | 1981 | $540.77B | | 1980 | $564.95B | | 1979 | $438.99B | | 1978 | $335.88B | | 1977 | $263.07B | | 1976 | $232.61B | | 1975 | $241.76B | | 1974 | $206.13B | | 1973 | $192.54B | | 1972 | $169.97B | | 1971 | $148.11B | | 1970 | $130.67B | | 1969 | $116.46B | | 1968 | $107.76B | | 1967 | $113.12B | | 1966 | $108.57B |\", \"score\": 0.5057865, \"raw_content\": null}], \"response_time\": 1.7, \"request_id\": \"fa642985-0b18-4498-bf3c-06b74b0436b4\"}', name='tavily_search', id='faf2ac47-100b-445f-bdd4-cd5c36a69825', tool_call_id='df3b62fb-2024-4ff6-9595-743c2ac3f209'), HumanMessage(content=\"Here is the UK's GDP growth rate over the past 5 years:\\n\\n*   **2023:** 0.34%\\n*   **2022:** 4.84%\\n*   **2021:** 8.58%\\n*   **2020:** -10.30%\\n*   **2019:** 1.62%\\n\\nPlease generate a line chart using this data.\", additional_kwargs={}, response_metadata={}, name='researcher', id='b3a25a62-83c5-44f5-936a-339a61e9ac3f'), HumanMessage(content='', additional_kwargs={}, response_metadata={}, name='chart_generator', id='1b4d43ad-b0b9-461c-9d93-4db81178f33e')]}}\n",
      "----\n"
     ]
    },
    {
     "name": "stderr",
     "output_type": "stream",
     "text": [
      "/home/gitpod/.pyenv/versions/3.12.11/lib/python3.12/site-packages/langchain_google_genai/chat_models.py:1805: UserWarning: HumanMessage with empty content was removed to prevent API error\n",
      "  warnings.warn(\n"
     ]
    },
    {
     "name": "stdout",
     "output_type": "stream",
     "text": [
      "{'researcher': {'messages': [HumanMessage(content=\"First, get the UK's GDP over the past 5 years, then generate a line chart of it. Once you generate the chart, finish.\", additional_kwargs={}, response_metadata={}, id='167e285f-76ad-4a0c-b155-fc01420e3111'), AIMessage(content='', additional_kwargs={'function_call': {'name': 'tavily_search', 'arguments': '{\"query\": \"UK GDP over the past 5 years\"}'}}, response_metadata={'prompt_feedback': {'block_reason': 0, 'safety_ratings': []}, 'finish_reason': 'STOP', 'model_name': 'gemini-2.5-flash', 'safety_ratings': []}, id='run--ef2f5d7c-297c-40f3-b795-e7bdca8ce886-0', tool_calls=[{'name': 'tavily_search', 'args': {'query': 'UK GDP over the past 5 years'}, 'id': 'df3b62fb-2024-4ff6-9595-743c2ac3f209', 'type': 'tool_call'}], usage_metadata={'input_tokens': 1373, 'output_tokens': 180, 'total_tokens': 1553, 'input_token_details': {'cache_read': 0}, 'output_token_details': {'reasoning': 156}}), ToolMessage(content='{\"query\": \"UK GDP over the past 5 years\", \"follow_up_questions\": null, \"answer\": null, \"images\": [], \"results\": [{\"url\": \"https://www.macrotrends.net/global-metrics/countries/gbr/united-kingdom/gdp-growth-rate\", \"title\": \"U.K. GDP Growth Rate | Historical Chart & Data\", \"content\": \"## U.K. GDP Growth Rate GDP GDP Growth Rate ##### U.K. gdp growth rate for 2023 was **0.34%**, a **4.5% decline** from 2022. * U.K. gdp growth rate for 2022 was **4.84%**, a **3.74% decline** from 2021. * U.K. gdp growth rate for 2021 was **8.58%**, a **18.87% increase** from 2020. * U.K. gdp growth rate for 2020 was **-10.30%**, a **11.92% decline** from 2019. Annual percentage growth rate of GDP at market prices based on constant local currency. ## GDP Growth Rate | Name | GDP Growth Rate | | South Asia | 6.779% | | North America | 2.762% | | Name | GDP Growth Rate | | Guinea | 6.745% | | South Africa | 0.698% |\", \"score\": 0.7570233, \"raw_content\": null}, {\"url\": \"https://en.wikipedia.org/wiki/Economy_of_the_United_Kingdom\", \"title\": \"Economy of the United Kingdom\", \"content\": \"In the first half of 2020, GDP shrank by 22.6%, the deepest recession in UK history and worse than any other G7 or European country. During 2020 the BoE\", \"score\": 0.57035583, \"raw_content\": null}, {\"url\": \"https://tradingeconomics.com/united-kingdom/gdp-growth\", \"title\": \"United Kingdom GDP Growth Rate\", \"content\": \"This page provides the latest reported value for - United Kingdom GDP Growth Rate - plus previous releases, historical high and low, short-term forecast and long-term prediction, economic calendar, survey consensus and news. United Kingdom GDP Growth Rate - data, historical chart, forecasts and calendar of releases - was last updated on August of 2025. GDP Growth Rate in the United Kingdom is expected to be 0.20 percent by the end of this quarter, according to Trading Economics global macro models and analysts expectations. | GDP Growth Rate YoY | 1.20 | 1.30 | percent | Jun 2025 | GDP Growth Rate GDP Growth Rate YoY Economic Calendar Historical Data News Stream Earnings Releases Credit Ratings Forecasts Markets Currencies Stocks Commodities Bonds Crypto Get Started\", \"score\": 0.56690645, \"raw_content\": null}, {\"url\": \"https://tradingeconomics.com/united-kingdom/gdp-growth-annual\", \"title\": \"United Kingdom GDP Annual Growth Rate\", \"content\": \"This page provides the latest reported value for - United Kingdom GDP Annual Growth Rate - plus previous releases, historical high and low, short-term forecast and long-term prediction, economic calendar, survey consensus and news. GDP Annual Growth Rate in the United Kingdom is expected to be 1.00 percent by the end of this quarter, according to Trading Economics global macro models and analysts expectations. | GDP Growth Rate YoY | 1.20 | 1.30 | percent | Jun 2025 | **UK GDP Annual Growth Rate at 1.2% in Q2** UK GDP Annual Growth Rate at 1.2% in Q2 GDP Growth Rate GDP Growth Rate YoY Economic Calendar Historical Data News Stream Earnings Releases Credit Ratings Forecasts Markets Currencies Stocks Commodities Bonds Crypto Get Started\", \"score\": 0.5414337, \"raw_content\": null}, {\"url\": \"https://www.macrotrends.net/global-metrics/countries/gbr/united-kingdom/gdp-gross-domestic-product\", \"title\": \"U.K. GDP | Historical Chart & Data\", \"content\": \"| 1989 | $926.88B | | 1988 | $910.12B | | 1987 | $745.16B | | 1986 | $601.45B | | 1985 | $489.29B | | 1984 | $461.49B | | 1983 | $489.62B | | 1982 | $515.05B | | 1981 | $540.77B | | 1980 | $564.95B | | 1979 | $438.99B | | 1978 | $335.88B | | 1977 | $263.07B | | 1976 | $232.61B | | 1975 | $241.76B | | 1974 | $206.13B | | 1973 | $192.54B | | 1972 | $169.97B | | 1971 | $148.11B | | 1970 | $130.67B | | 1969 | $116.46B | | 1968 | $107.76B | | 1967 | $113.12B | | 1966 | $108.57B |\", \"score\": 0.5057865, \"raw_content\": null}], \"response_time\": 1.7, \"request_id\": \"fa642985-0b18-4498-bf3c-06b74b0436b4\"}', name='tavily_search', id='faf2ac47-100b-445f-bdd4-cd5c36a69825', tool_call_id='df3b62fb-2024-4ff6-9595-743c2ac3f209'), HumanMessage(content=\"Here is the UK's GDP growth rate over the past 5 years:\\n\\n*   **2023:** 0.34%\\n*   **2022:** 4.84%\\n*   **2021:** 8.58%\\n*   **2020:** -10.30%\\n*   **2019:** 1.62%\\n\\nPlease generate a line chart using this data.\", additional_kwargs={}, response_metadata={}, name='researcher', id='b3a25a62-83c5-44f5-936a-339a61e9ac3f'), HumanMessage(content='', additional_kwargs={}, response_metadata={}, name='chart_generator', id='1b4d43ad-b0b9-461c-9d93-4db81178f33e'), HumanMessage(content=\"FINAL ANSWER\\nHere is the data to generate the line chart:\\n\\n**UK GDP Growth Rate (2019-2023)**\\n\\n| Year | GDP Growth Rate (%) |\\n| :--- | :------------------ |\\n| 2023 | 0.34                |\\n| 2022 | 4.84                |\\n| 2021 | 8.58                |\\n| 2020 | -10.30              |\\n| 2019 | 1.62                |\\n\\nPlease generate a line chart of this data with 'Year' on the x-axis and 'GDP Growth Rate (%)' on the y-axis.\", additional_kwargs={}, response_metadata={}, name='researcher', id='9e75c93c-eae2-4cd8-abca-5d1ad7708d5f')]}}\n",
      "----\n"
     ]
    }
   ],
   "source": [
    "import time\n",
    "\n",
    "events = graph.stream(\n",
    "    {\n",
    "        \"messages\": [\n",
    "            (\n",
    "                \"user\",\n",
    "                \"First, get the UK's GDP over the past 5 years, then generate a line chart of it. \"\n",
    "                \"Once you generate the chart, finish.\",\n",
    "            )\n",
    "        ],\n",
    "    },\n",
    "    # Maximum number of steps to take in the graph\n",
    "    {\"recursion_limit\": 150},\n",
    ")\n",
    "for s in events:\n",
    "    print(s)\n",
    "    print(\"----\")"
   ]
  }
 ],
 "metadata": {
  "kernelspec": {
   "display_name": "Python 3",
   "language": "python",
   "name": "python3"
  },
  "language_info": {
   "codemirror_mode": {
    "name": "ipython",
    "version": 3
   },
   "file_extension": ".py",
   "mimetype": "text/x-python",
   "name": "python",
   "nbconvert_exporter": "python",
   "pygments_lexer": "ipython3",
   "version": "3.12.11"
  }
 },
 "nbformat": 4,
 "nbformat_minor": 5
}
